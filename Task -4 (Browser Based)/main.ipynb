{
 "metadata": {
  "language_info": {
   "codemirror_mode": {
    "name": "ipython",
    "version": 3
   },
   "file_extension": ".py",
   "mimetype": "text/x-python",
   "name": "python",
   "nbconvert_exporter": "python",
   "pygments_lexer": "ipython3",
   "version": "3.8.5-final"
  },
  "orig_nbformat": 2,
  "kernelspec": {
   "name": "python3",
   "display_name": "Python 3",
   "language": "python"
  }
 },
 "nbformat": 4,
 "nbformat_minor": 2,
 "cells": [
  {
   "cell_type": "code",
   "execution_count": 1,
   "metadata": {},
   "outputs": [
    {
     "output_type": "stream",
     "name": "stdout",
     "text": [
      "Welcome to ClointFusion, Made in India with ❤️\n",
      "Semi Automatic Mode is DISABLED 👍️\n"
     ]
    }
   ],
   "source": [
    "import ClointFusion as cf\n",
    "import os\n",
    "\n",
    "cf.OFF_semi_automatic_mode() "
   ]
  },
  {
   "cell_type": "code",
   "execution_count": 2,
   "metadata": {},
   "outputs": [],
   "source": [
    "def getData(excelPath,sheetName,column_name):\n",
    "    row, column = cf.excel_get_row_column_count(excel_path=excelPath,sheet_name=sheetName)\n",
    "    data = []\n",
    "    for i in range(0,row-1):\n",
    "        temp = cf.excel_get_single_cell(excel_path=excelPath,sheet_name='Sheet1',columnName=column_name,cellNumber=i)\n",
    "        if str(temp) != 'nan':\n",
    "            data.append(temp)\n",
    "\n",
    "    return data"
   ]
  },
  {
   "cell_type": "code",
   "execution_count": 3,
   "metadata": {},
   "outputs": [],
   "source": [
    "def writeData(imgPath,data):\n",
    "    cf.mouse_click(*cf.mouse_search_snip_return_coordinates_x_y(imgPath), single_double_triple='single')\n",
    "    for i in data:\n",
    "        cf.key_write_enter(strMsg=i,delay=0.5,key='e')"
   ]
  },
  {
   "cell_type": "code",
   "execution_count": 4,
   "metadata": {},
   "outputs": [
    {
     "output_type": "stream",
     "name": "stdout",
     "text": [
      "6 5\n",
      "['fharookshaik.5@gmail.com', 'fharookshaikiiitdwd@gmail.com', '18bcs091@iiitdwd.ac.in']\n",
      "['fharookshaik.5@gmail.com']\n",
      "['Browser Based Training Task - 4']\n",
      "['This is a mail sent by a bot made of clointfusion with a dummy information.', 'Table Data']\n",
      "['Thanks & Regards,', 'Shaik Fharook,', 'IIIrd Year, Dept. of CSE,', 'IIIT Dharwad.']\n"
     ]
    }
   ],
   "source": [
    "cwd = os.getcwd()\n",
    "\n",
    "row,column = cf.excel_get_row_column_count(excel_path='bot_email_inputs.xlsx',sheet_name='Sheet1')\n",
    "print(row, column)\n",
    "\n",
    "email_to = getData(excelPath='bot_email_inputs.xlsx',sheetName='Sheet1',column_name='TO')\n",
    "print(email_to)\n",
    "cc = getData(excelPath='bot_email_inputs.xlsx',sheetName='Sheet1',column_name='CC')\n",
    "print(cc)\n",
    "subject = getData(excelPath='bot_email_inputs.xlsx',sheetName='Sheet1',column_name='Subject')\n",
    "print(subject)\n",
    "msg = getData(excelPath='bot_email_inputs.xlsx',sheetName='Sheet1',column_name='Message')\n",
    "print(msg)\n",
    "signature = getData(excelPath='bot_email_inputs.xlsx',sheetName='Sheet1',column_name='Signature')\n",
    "print(signature)"
   ]
  },
  {
   "cell_type": "code",
   "execution_count": 5,
   "metadata": {},
   "outputs": [],
   "source": [
    "cf.window_show_desktop()\n",
    "cf.mouse_click(*cf.mouse_search_snip_return_coordinates_x_y('images/excel.png'), single_double_triple='double')\n",
    "cf.key_press(strKeys='ctrl + a + c')"
   ]
  },
  {
   "cell_type": "code",
   "execution_count": 6,
   "metadata": {},
   "outputs": [
    {
     "output_type": "execute_result",
     "data": {
      "text/plain": [
       "''"
      ]
     },
     "metadata": {},
     "execution_count": 6
    }
   ],
   "source": [
    "cf.window_show_desktop()\n",
    "cf.key_press('windows')\n",
    "cf.key_write_enter(strMsg='Office',delay=0.5,key='e')\n",
    "cf.window_activate_and_maximize_windows('Office')\n",
    "cf.mouse_click(*cf.mouse_search_snip_return_coordinates_x_y('images/outlook.png'), single_double_triple='single')\n",
    "# cf.launch_any_exe_bat_application('Office')"
   ]
  },
  {
   "cell_type": "code",
   "execution_count": 7,
   "metadata": {},
   "outputs": [
    {
     "output_type": "execute_result",
     "data": {
      "text/plain": [
       "''"
      ]
     },
     "metadata": {},
     "execution_count": 7
    }
   ],
   "source": [
    "cf.mouse_click(*cf.mouse_search_snip_return_coordinates_x_y('images/new_message.png'), single_double_triple='single')\n",
    "\n",
    "writeData(imgPath='images/to.png',data=email_to)\n",
    "\n",
    "cf.mouse_click(*cf.mouse_search_snip_return_coordinates_x_y('images/CC.png'), single_double_triple='single')\n",
    "writeData(imgPath='images/cc_inp.png',data=cc)\n",
    "\n",
    "writeData(imgPath='images/subject.png',data=subject)\n",
    "\n",
    "writeData(imgPath='images/message.png',data=msg)\n",
    "\n",
    "cf.key_press(strKeys='ctrl + v')\n",
    "\n",
    "for i in signature:\n",
    "    cf.key_write_enter(strMsg=i,delay=0.5,key='e')\n",
    "\n",
    "cf.mouse_click(*cf.mouse_search_snip_return_coordinates_x_y('images/attach.png'), single_double_triple='single')\n",
    "cf.mouse_click(*cf.mouse_search_snip_return_coordinates_x_y('images/upload.png'), single_double_triple='single')\n",
    "\n",
    "cf.mouse_click(*cf.mouse_search_snip_return_coordinates_x_y('images/documents.png'), single_double_triple='single')\n",
    "cf.mouse_click(*cf.mouse_search_snip_return_coordinates_x_y('images/attachment_path.png'), single_double_triple='single')\n",
    "cf.key_write_enter(strMsg=cwd,delay=0.5,key='e')\n",
    "\n",
    "cf.mouse_click(*cf.mouse_search_snip_return_coordinates_x_y('images/excel_file.png'), single_double_triple='single')\n",
    "cf.key_hit_enter()\n",
    "\n",
    "cf.mouse_click(*cf.mouse_search_snip_return_coordinates_x_y('images/send.png'), single_double_triple='single')\n",
    "\n"
   ]
  },
  {
   "cell_type": "code",
   "execution_count": 8,
   "metadata": {},
   "outputs": [],
   "source": [
    "cf.message_flash(msg=f'Success {cf.show_emoji()}',delay=10)"
   ]
  }
 ]
}