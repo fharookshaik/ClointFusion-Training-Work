{
 "cells": [
  {
   "cell_type": "markdown",
   "metadata": {},
   "source": [
    "### ClointFusion Intern Work - 1\n",
    "\n",
    "We need to get all the in the \"Excel.xlsx\" file\n",
    "- get all the header columns\n",
    "- get row & column Count\n",
    "- get all sheet names\n",
    "- Remove duplicate data with respect to \"ID\"  column\n",
    "- Sort the data with respect to \"OrderDate\"  column\n",
    "- drop \"Region\" column\n",
    "- Create one python dictionary {key:value}={\"ID\":\"Units\"}   Note:-in this ID and Units are the column names \n",
    "\n",
    "***Note: Please makesure that the excel file is within the current working directory and it's named as 'Excel.xlsx'.***\n",
    "\n",
    "* Run each cell step by step for better execution. Feel free to contact me if you're facing any issues while execution.\n"
   ]
  },
  {
   "cell_type": "code",
   "execution_count": 2,
   "metadata": {},
   "outputs": [
    {
     "output_type": "stream",
     "name": "stdout",
     "text": [
      "Welcome to ClointFusion, Made in India with ❤️\n",
      "Semi Automatic Mode is DISABLED 👍️\n"
     ]
    }
   ],
   "source": [
    "import ClointFusion as cf\n",
    "import os\n",
    "\n",
    "cf.OFF_semi_automatic_mode()"
   ]
  },
  {
   "cell_type": "code",
   "execution_count": 3,
   "metadata": {},
   "outputs": [],
   "source": [
    "# Please note that the Excel file should be within the current working folder and it should be named as Excel.xlsx\n",
    "#\n",
    "excelfilepath = os.getcwd() + \"\\Excel.xlsx\""
   ]
  },
  {
   "cell_type": "markdown",
   "metadata": {},
   "source": [
    "### **Q1. Get All Sheet Names**"
   ]
  },
  {
   "cell_type": "code",
   "execution_count": 4,
   "metadata": {},
   "outputs": [
    {
     "output_type": "execute_result",
     "data": {
      "text/plain": [
       "['Sheet1']"
      ]
     },
     "metadata": {},
     "execution_count": 4
    }
   ],
   "source": [
    "cf.excel_get_all_sheet_names(excelfilepath)"
   ]
  },
  {
   "cell_type": "markdown",
   "metadata": {},
   "source": [
    "### **Q2. Get All Header Cloumns**"
   ]
  },
  {
   "cell_type": "code",
   "execution_count": 39,
   "metadata": {},
   "outputs": [
    {
     "output_type": "stream",
     "name": "stdout",
     "text": [
      "ID \nOrderDate\nRep\nItem\nUnits\nUnitCost\nTotal\n"
     ]
    }
   ],
   "source": [
    "header_columns = cf.excel_get_all_header_columns(excel_path= excelfilepath, sheet_name= 'Sheet1')\n",
    "for i in header_columns:\n",
    "    print(i)"
   ]
  },
  {
   "cell_type": "markdown",
   "metadata": {},
   "source": [
    "### **Q3. Get Row & Column Content**"
   ]
  },
  {
   "cell_type": "code",
   "execution_count": 6,
   "metadata": {},
   "outputs": [
    {
     "output_type": "stream",
     "name": "stdout",
     "text": [
      "Row Count = 44\nColumn Count = 7\n"
     ]
    }
   ],
   "source": [
    "row, column = cf.excel_get_row_column_count(excel_path= excelfilepath)\n",
    "print(f\"Row Count = {row}\")\n",
    "print(f\"Column Count = {column}\")"
   ]
  },
  {
   "cell_type": "markdown",
   "metadata": {},
   "source": [
    "### **Q4. Remove duplicate data with respect to \"ID\" column**"
   ]
  },
  {
   "cell_type": "code",
   "execution_count": 7,
   "metadata": {},
   "outputs": [
    {
     "output_type": "stream",
     "name": "stdout",
     "text": [
      "Error in excel_get_all_sheet_names=[Errno 2] No such file or directory: 'C:/Users/fharookshaik/Desktop/ClointFusion Intern Work/Excel.xlsx'\n",
      "Error in excel_get_all_header_columns=[Errno 2] No such file or directory: 'C:/Users/fharookshaik/Desktop/ClointFusion Intern Work/Excel.xlsx'\n",
      "gui_get_dropdownlist_values_from_user - List is empty\n",
      "Error in excel_remove_duplicates=[Errno 2] No such file or directory: 'C:/Users/fharookshaik/Desktop/ClointFusion Intern Work/Excel.xlsx'\n",
      "Error in excel_remove_duplicates=Index(['ID'], dtype='object')\n"
     ]
    }
   ],
   "source": [
    "# The below function is working fine in gui mode whereas it's throwing me some error while in nongui mode. I've informed this to the mentors. \n",
    "cf.excel_remove_duplicates()\n",
    "cf.excel_remove_duplicates(excel_path=excelfilepath,sheet_name='Sheet1',header=0,columnName='ID')"
   ]
  },
  {
   "source": [
    "### **Q5. Sort the data with respect to \"OrderDate\" column**"
   ],
   "cell_type": "markdown",
   "metadata": {}
  },
  {
   "cell_type": "code",
   "execution_count": 8,
   "metadata": {},
   "outputs": [
    {
     "output_type": "stream",
     "name": "stdout",
     "text": [
      "Success 👍️\n"
     ]
    }
   ],
   "source": [
    "if cf.excel_sort_columns(excel_path=excelfilepath,sheet_name='Sheet1',firstColumnToBeSorted='OrderDate'):\n",
    "    print(\"Success\",cf.show_emoji())"
   ]
  },
  {
   "source": [
    "### **Q6. drop \"Region\" column**"
   ],
   "cell_type": "markdown",
   "metadata": {}
  },
  {
   "cell_type": "code",
   "execution_count": 9,
   "metadata": {},
   "outputs": [],
   "source": [
    "cf.excel_drop_columns(excel_path=excelfilepath,sheet_name='Sheet1',header=0,columnsToBeDropped='Region')"
   ]
  },
  {
   "source": [
    "### **Q7. Create one python dictionary {key:value}={\"ID\":\"Units\"} Note:-in this ID and Units are the column names**"
   ],
   "cell_type": "markdown",
   "metadata": {}
  },
  {
   "cell_type": "code",
   "execution_count": 48,
   "metadata": {
    "tags": []
   },
   "outputs": [
    {
     "output_type": "stream",
     "name": "stdout",
     "text": [
      "{1001: 95, 1002: 50, 1003: 36, 1004: 27, 1005: 56, 1006: 60, 1007: 75, 1008: 90, 1009: 32, 1010: 60, 1011: 90, 1012: 29, 1013: 81, 1014: 35, 1015: 2, 1016: 16, 1017: 28, 1018: 64, 1019: 15, 1020: 96, 1021: 67, 1022: 74, 1023: 46, 1024: 87, 1025: 4, 1026: 7, 1027: 50, 1028: 66, 1029: 96, 1030: 53, 1031: 80, 1032: 5, 1033: 62, 1034: 55, 1035: 42, 1036: 3, 1037: 7, 1038: 76, 1039: 57, 1040: 14, 1041: 11, 1042: 94, 1043: 28}\nSuccess 👍️\n"
     ]
    }
   ],
   "source": [
    "# Initializing dictionary\n",
    "rowdata = {}\n",
    "row,column = cf.excel_get_row_column_count(excel_path=excelfilepath,sheet_name='Sheet1')\n",
    "\n",
    "for i in range(row-1):\n",
    "    key = cf.excel_get_single_cell(excel_path=excelfilepath,sheet_name='Sheet1',header=0,columnName='ID ',cellNumber=i)\n",
    "    value = cf.excel_get_single_cell(excel_path=excelfilepath,sheet_name='Sheet1',columnName='Units',cellNumber=i)\n",
    "    rowdata[key] = value\n",
    "\n",
    "print(rowdata)\n",
    "print(\"Success\",cf.show_emoji())    "
   ]
  },
  {
   "cell_type": "code",
   "execution_count": null,
   "metadata": {},
   "outputs": [],
   "source": []
  }
 ],
 "metadata": {
  "kernelspec": {
   "display_name": "Python 3",
   "language": "python",
   "name": "python3"
  },
  "language_info": {
   "codemirror_mode": {
    "name": "ipython",
    "version": 3
   },
   "file_extension": ".py",
   "mimetype": "text/x-python",
   "name": "python",
   "nbconvert_exporter": "python",
   "pygments_lexer": "ipython3",
   "version": "3.8.5-final"
  }
 },
 "nbformat": 4,
 "nbformat_minor": 4
}