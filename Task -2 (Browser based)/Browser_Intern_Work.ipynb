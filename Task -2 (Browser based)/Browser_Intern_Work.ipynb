{
 "metadata": {
  "language_info": {
   "codemirror_mode": {
    "name": "ipython",
    "version": 3
   },
   "file_extension": ".py",
   "mimetype": "text/x-python",
   "name": "python",
   "nbconvert_exporter": "python",
   "pygments_lexer": "ipython3",
   "version": "3.8.5-final"
  },
  "orig_nbformat": 2,
  "kernelspec": {
   "name": "python3",
   "display_name": "Python 3"
  }
 },
 "nbformat": 4,
 "nbformat_minor": 2,
 "cells": [
  {
   "cell_type": "code",
   "execution_count": 39,
   "metadata": {},
   "outputs": [
    {
     "output_type": "stream",
     "name": "stdout",
     "text": [
      "Semi Automatic Mode is DISABLED 👍️\n"
     ]
    }
   ],
   "source": [
    "import ClointFusion as cf\n",
    "cf.OFF_semi_automatic_mode()"
   ]
  },
  {
   "cell_type": "code",
   "execution_count": 40,
   "metadata": {},
   "outputs": [],
   "source": [
    "def return_coordinates(img):\n",
    "    coordinates = cf.mouse_search_snip_return_coordinates_x_y(img,conf=0.8)\n",
    "    return coordinates"
   ]
  },
  {
   "cell_type": "code",
   "execution_count": 41,
   "metadata": {},
   "outputs": [],
   "source": [
    "def click_mouse(coordinates,single_double_triple):\n",
    "    cf.mouse_click(x=coordinates[0],y=coordinates[1],single_double_triple=single_double_triple)\n",
    "    print(f\"Clicked on {coordinates} {single_double_triple} times\")"
   ]
  },
  {
   "cell_type": "code",
   "execution_count": 42,
   "metadata": {},
   "outputs": [],
   "source": [
    "def search_for_product_and_add_to_cart(productName,img):\n",
    "    cf.mouse_find_highlight_click(searchText='Search for products, brands and more')\n",
    "\n",
    "    cf.message_counter_down_timer(strMsg=f'Searching for {productName}',start_value=3)\n",
    "\n",
    "    # Clicks on 'Search for products, brands and more'\n",
    "    # cf.mouse_click(x=545,y=163) # works for 1080 screen, varies for other display\n",
    "    cf.key_write_enter(strMsg=productName,delay=1,key='e')\n",
    "\n",
    "    cf.message_counter_down_timer(strMsg=f'Looking for {productName}',start_value=3)\n",
    "\n",
    "    coordinates = return_coordinates(img)\n",
    "    click_mouse(coordinates,'single')\n",
    "\n",
    "    # Adding to Cart\n",
    "    cf.message_counter_down_timer(strMsg='Adding to Cart',start_value=3)\n",
    "    coordinates = return_coordinates(img='images/add_to_cart.png')\n",
    "    click_mouse(coordinates,'single')"
   ]
  },
  {
   "cell_type": "code",
   "execution_count": 43,
   "metadata": {},
   "outputs": [
    {
     "output_type": "stream",
     "name": "stdout",
     "text": [
      "Clicked on (46, 716) double times\n"
     ]
    }
   ],
   "source": [
    "# For edge browser\n",
    "cf.window_show_desktop()\n",
    "\n",
    "coordinates = return_coordinates(img='images/edge.png')\n",
    "\n",
    "# for firefox browser\n",
    "# coordinates = return_coordinates(img='images/firefox.png')\n",
    "\n",
    "click_mouse(coordinates,'double')"
   ]
  },
  {
   "cell_type": "code",
   "execution_count": 44,
   "metadata": {},
   "outputs": [
    {
     "output_type": "stream",
     "name": "stdout",
     "text": [
      "Error in mouse_find_highlight_click=<built-in function imread> returned NULL without setting an error\n",
      "Clicked on (557, 553) single times\n",
      "Clicked on (331, 879) single times\n",
      "Error in mouse_find_highlight_click=<built-in function imread> returned NULL without setting an error\n",
      "Clicked on (929, 563) single times\n",
      "Clicked on (331, 879) single times\n"
     ]
    }
   ],
   "source": [
    "# Verify that the actual selected browser fire up\n",
    "cf.window_activate_and_maximize_windows(cf.gui_get_dropdownlist_values_from_user(msgForUser='Please Select the Newly Opened Browser from the list',dropdown_list=cf.window_get_all_opened_titles_windows(),multi_select=False)[0])\n",
    "\n",
    "cf.key_write_enter(strMsg='https://flipkart.com',key='e')\n",
    "cf.message_counter_down_timer(strMsg='Waiting until flipkart is open',start_value=3)\n",
    "\n",
    "# Project -1\n",
    "productName = 'boAt Airdopes 131 Bluetooth Headset'\n",
    "img = 'images/boat_airpodes_131_bluetooth_headset.png'\n",
    "search_for_product_and_add_to_cart(productName,img)\n",
    "\n",
    "# Product -2\n",
    "productName = 'boAt Airdopes 402 Bluetooth Headset'\n",
    "img = 'images/boat_airpodes_402_bluetooth_headset.png'\n",
    "search_for_product_and_add_to_cart(productName,img)"
   ]
  },
  {
   "cell_type": "code",
   "execution_count": 45,
   "metadata": {},
   "outputs": [
    {
     "output_type": "stream",
     "name": "stdout",
     "text": [
      "Clicked on (1024, 918) single times\n"
     ]
    }
   ],
   "source": [
    "# Place Order\n",
    "cf.message_counter_down_timer(strMsg='Placing Order',start_value=3)\n",
    "\n",
    "coordinates = return_coordinates(img='images/place_order.png')\n",
    "click_mouse(coordinates,'single')"
   ]
  },
  {
   "cell_type": "code",
   "execution_count": 46,
   "metadata": {},
   "outputs": [
    {
     "output_type": "stream",
     "name": "stdout",
     "text": [
      "Clicked on (375, 553) single times\n"
     ]
    }
   ],
   "source": [
    "# Select the Address\n",
    "cf.message_flash(msg='Choose your address',delay=1000)\n",
    "\n",
    "coordinates = return_coordinates(img='images/deliver_here.png')\n",
    "click_mouse(coordinates,'single')"
   ]
  },
  {
   "cell_type": "code",
   "execution_count": 47,
   "metadata": {},
   "outputs": [],
   "source": [
    "# CVV Section\n",
    "cf.search_highlight_tab_enter_open(searchText='Continue')\n",
    "\n",
    "cf.message_flash(msg='Select Your Card and select OK. No Need to enter CVV',delay=1000)\n",
    "\n",
    "cvv = cf.gui_get_any_input_from_user(msgForUser='Enter cvv',password=True,mandatory_field=True)\n",
    "\n",
    "cf.key_write_enter(cvv)"
   ]
  },
  {
   "cell_type": "code",
   "execution_count": 48,
   "metadata": {},
   "outputs": [
    {
     "output_type": "stream",
     "name": "stdout",
     "text": [
      "Clicked on (1891, 19) single times\n"
     ]
    }
   ],
   "source": [
    "# Final Section\n",
    "\n",
    "# cf.message_counter_down_timer(strMsg='Aborting Transaction',start_value=3)\n",
    "cf.message_flash(msg='Please Abort Your Transaction for no loss',delay=10)\n",
    "# cf.search_highlight_tab_enter_open(searchText='Click Here to Abort Transaction')\n",
    "\n",
    "cf.message_counter_down_timer(strMsg='Exiting Browser')\n",
    "\n",
    "coordinates = return_coordinates('images/close.png')\n",
    "click_mouse(coordinates,'single')"
   ]
  },
  {
   "cell_type": "code",
   "execution_count": 50,
   "metadata": {},
   "outputs": [
    {
     "output_type": "stream",
     "name": "stdout",
     "text": [
      "Success 👍️\n"
     ]
    }
   ],
   "source": [
    "print(\"Success\",cf.show_emoji())"
   ]
  }
 ]
}