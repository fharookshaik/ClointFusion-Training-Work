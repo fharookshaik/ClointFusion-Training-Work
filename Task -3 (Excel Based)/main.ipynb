{
 "metadata": {
  "language_info": {
   "codemirror_mode": {
    "name": "ipython",
    "version": 3
   },
   "file_extension": ".py",
   "mimetype": "text/x-python",
   "name": "python",
   "nbconvert_exporter": "python",
   "pygments_lexer": "ipython3",
   "version": "3.8.5-final"
  },
  "orig_nbformat": 2,
  "kernelspec": {
   "name": "python3",
   "display_name": "Python 3"
  }
 },
 "nbformat": 4,
 "nbformat_minor": 2,
 "cells": [
  {
   "cell_type": "code",
   "execution_count": 1,
   "metadata": {},
   "outputs": [
    {
     "output_type": "stream",
     "name": "stdout",
     "text": [
      "Welcome to ClointFusion, Made in India with ❤️\n",
      "Semi Automatic Mode is DISABLED 👍️\n"
     ]
    }
   ],
   "source": [
    "import ClointFusion as cf\n",
    "\n",
    "cf.OFF_semi_automatic_mode()"
   ]
  },
  {
   "cell_type": "code",
   "execution_count": 2,
   "metadata": {},
   "outputs": [],
   "source": [
    "def write_into_NameBox(inp):\n",
    "    cf.mouse_click(x=73,y=224,single_double_triple='double')\n",
    "    cf.key_write_enter(strMsg=inp,delay=0.5,key='e')"
   ]
  },
  {
   "cell_type": "code",
   "execution_count": 3,
   "metadata": {},
   "outputs": [
    {
     "output_type": "execute_result",
     "data": {
      "text/plain": [
       "''"
      ]
     },
     "metadata": {},
     "execution_count": 3
    }
   ],
   "source": [
    "cf.window_show_desktop()\n",
    "\n",
    "cf.message_counter_down_timer(strMsg='Starting Process',start_value=3)\n",
    "\n",
    "cf.mouse_click(*cf.mouse_search_snip_return_coordinates_x_y('images/excel.png'),single_double_triple='double')"
   ]
  },
  {
   "cell_type": "code",
   "execution_count": 4,
   "metadata": {},
   "outputs": [],
   "source": [
    "cf.message_counter_down_timer(strMsg='Looking for Table',start_value=3)\n",
    "\n",
    "write_into_NameBox(inp='G1')\n",
    "cf.key_press(strKeys='ctrl + down')\n",
    "cf.key_press(strKeys='ctrl + shift + down')\n",
    "cf.key_press(strKeys='ctrl + shift + left')\n",
    "cf.key_press(strKeys='ctrl + c')\n",
    "cf.key_press(strKeys='shift + f11')\n",
    "cf.key_press(strKeys='ctrl + v')\n"
   ]
  },
  {
   "cell_type": "code",
   "execution_count": 5,
   "metadata": {},
   "outputs": [],
   "source": [
    "cf.message_counter_down_timer(strMsg='Sorting the Region to central',start_value=3)\n",
    "\n",
    "write_into_NameBox(inp='B1')\n",
    "cf.key_press(strKeys='ctrl + shift + l')\n",
    "cf.key_press(strKeys='alt + down')\n",
    "cf.mouse_click(*cf.mouse_search_snip_return_coordinates_x_y('images/west.png'),single_double_triple='single')\n",
    "cf.mouse_click(*cf.mouse_search_snip_return_coordinates_x_y('images/east.png'),single_double_triple='single')\n",
    "cf.key_press(strKeys='enter')\n",
    "cf.key_press(strKeys='ctrl + a')\n",
    "cf.key_press(strKeys='ctrl + c')\n",
    "cf.key_press(strKeys='shift + f11')\n",
    "cf.key_press(strKeys='ctrl + v')"
   ]
  },
  {
   "cell_type": "code",
   "execution_count": 6,
   "metadata": {},
   "outputs": [],
   "source": [
    "# cf.key_press('ctrl + a')\n",
    "cf.message_counter_down_timer(strMsg='Adding Border to the Table',start_value=3)\n",
    "\n",
    "cf.key_press('alt + h + b + a + enter')"
   ]
  },
  {
   "cell_type": "code",
   "execution_count": 7,
   "metadata": {},
   "outputs": [],
   "source": [
    "cf.message_counter_down_timer(strMsg='Sorting the Total',start_value=3)\n",
    "\n",
    "write_into_NameBox('G1')\n",
    "cf.key_press(strKeys='alt + a + s + a + enter')\n",
    "cf.key_hit_enter()"
   ]
  },
  {
   "cell_type": "code",
   "execution_count": 8,
   "metadata": {},
   "outputs": [],
   "source": [
    "cf.message_counter_down_timer(strMsg='Changing the heading colors',start_value=3)\n",
    "\n",
    "write_into_NameBox('A1')\n",
    "cf.key_press('ctrl + shift + right')\n",
    "cf.key_press('alt + h')\n",
    "cf.key_press('alt + h + m')\n",
    "cf.key_press('right')\n",
    "cf.mouse_click(x=916,y=698,single_double_triple='double')\n",
    "cf.key_write_enter(strMsg='000000',delay=0.5,key='e')\n",
    "\n",
    "\n",
    "cf.key_press('alt + h + f + c + m')\n",
    "cf.key_press('right')\n",
    "cf.mouse_click(x=916,y=698,single_double_triple='double')\n",
    "cf.key_write_enter(strMsg='FF9900',delay=0.5,key='e')"
   ]
  },
  {
   "cell_type": "code",
   "execution_count": 9,
   "metadata": {},
   "outputs": [],
   "source": [
    "cf.message_counter_down_timer(strMsg='Conditional formatting the Total',start_value=3)\n",
    "\n",
    "write_into_NameBox('G1')\n",
    "cf.key_press('ctrl + shift + down')\n",
    "cf.key_press('alt + h + l + s')\n",
    "cf.key_press('alt + ctrl + enter')\n",
    "write_into_NameBox('A1')"
   ]
  },
  {
   "cell_type": "code",
   "execution_count": 10,
   "metadata": {},
   "outputs": [],
   "source": [
    "cf.key_press('ctrl + s')\n",
    "cf.message_flash(msg=f'All Done {cf.show_emoji()}',delay=3)"
   ]
  }
 ]
}